{
 "cells": [
  {
   "cell_type": "markdown",
   "id": "69c7a7fb",
   "metadata": {},
   "source": [
    " A simple script to concatenate all csv files in a folder into one file.\n",
    "\n",
    " Modified by Danielle Hewitt from daniel.riggs1@gmail.com, September 2018\n",
    " \n",
    " Make sure that you have all data in a folder called input_dir, and a folder ready for the resulting datafile called   output_dir (in the working directory)"
   ]
  },
  {
   "cell_type": "code",
   "execution_count": 1,
   "id": "a3e3431f",
   "metadata": {},
   "outputs": [
    {
     "ename": "OSError",
     "evalue": "The input folder \"input_files\" could not be found. The current directory is /Users/dhewitt/GitHub/TouchStudy/BehaviouralData",
     "output_type": "error",
     "traceback": [
      "\u001b[0;31m---------------------------------------------------------------------------\u001b[0m",
      "\u001b[0;31mOSError\u001b[0m                                   Traceback (most recent call last)",
      "\u001b[0;32m/var/folders/m9/8l65rzcd5x5903xt73lz9ln00000gn/T/ipykernel_64784/276621026.py\u001b[0m in \u001b[0;36m<module>\u001b[0;34m\u001b[0m\n\u001b[1;32m     47\u001b[0m     \u001b[0moutput_file\u001b[0m \u001b[0;34m=\u001b[0m \u001b[0;34m'allBehaviouralDataCheck.csv'\u001b[0m\u001b[0;34m\u001b[0m\u001b[0;34m\u001b[0m\u001b[0m\n\u001b[1;32m     48\u001b[0m \u001b[0;34m\u001b[0m\u001b[0m\n\u001b[0;32m---> 49\u001b[0;31m     \u001b[0mconcat_csv_files\u001b[0m\u001b[0;34m(\u001b[0m\u001b[0minput_dir\u001b[0m\u001b[0;34m,\u001b[0m \u001b[0moutput_dir\u001b[0m\u001b[0;34m,\u001b[0m \u001b[0moutput_file\u001b[0m\u001b[0;34m,\u001b[0m \u001b[0minput_separator\u001b[0m\u001b[0;34m=\u001b[0m\u001b[0;34m','\u001b[0m\u001b[0;34m,\u001b[0m \u001b[0moutput_separator\u001b[0m\u001b[0;34m=\u001b[0m\u001b[0;34m','\u001b[0m\u001b[0;34m)\u001b[0m\u001b[0;34m\u001b[0m\u001b[0;34m\u001b[0m\u001b[0m\n\u001b[0m",
      "\u001b[0;32m/var/folders/m9/8l65rzcd5x5903xt73lz9ln00000gn/T/ipykernel_64784/276621026.py\u001b[0m in \u001b[0;36mconcat_csv_files\u001b[0;34m(input_dir, output_dir, output_file, input_separator, output_separator)\u001b[0m\n\u001b[1;32m     10\u001b[0m     \u001b[0mdir_not_found_message\u001b[0m \u001b[0;34m=\u001b[0m \u001b[0;34m'The {} folder \"{}\" could not be found. The current directory is {}'\u001b[0m\u001b[0;34m\u001b[0m\u001b[0;34m\u001b[0m\u001b[0m\n\u001b[1;32m     11\u001b[0m     \u001b[0;32mif\u001b[0m \u001b[0;32mnot\u001b[0m \u001b[0mos\u001b[0m\u001b[0;34m.\u001b[0m\u001b[0mpath\u001b[0m\u001b[0;34m.\u001b[0m\u001b[0mexists\u001b[0m\u001b[0;34m(\u001b[0m\u001b[0minput_dir\u001b[0m\u001b[0;34m)\u001b[0m\u001b[0;34m:\u001b[0m\u001b[0;34m\u001b[0m\u001b[0;34m\u001b[0m\u001b[0m\n\u001b[0;32m---> 12\u001b[0;31m         \u001b[0;32mraise\u001b[0m \u001b[0mOSError\u001b[0m\u001b[0;34m(\u001b[0m\u001b[0mdir_not_found_message\u001b[0m\u001b[0;34m.\u001b[0m\u001b[0mformat\u001b[0m\u001b[0;34m(\u001b[0m\u001b[0;34m'input'\u001b[0m\u001b[0;34m,\u001b[0m \u001b[0minput_dir\u001b[0m\u001b[0;34m,\u001b[0m \u001b[0mos\u001b[0m\u001b[0;34m.\u001b[0m\u001b[0mgetcwd\u001b[0m\u001b[0;34m(\u001b[0m\u001b[0;34m)\u001b[0m\u001b[0;34m)\u001b[0m\u001b[0;34m)\u001b[0m\u001b[0;34m\u001b[0m\u001b[0;34m\u001b[0m\u001b[0m\n\u001b[0m\u001b[1;32m     13\u001b[0m     \u001b[0;32mif\u001b[0m \u001b[0;32mnot\u001b[0m \u001b[0mos\u001b[0m\u001b[0;34m.\u001b[0m\u001b[0mpath\u001b[0m\u001b[0;34m.\u001b[0m\u001b[0mexists\u001b[0m\u001b[0;34m(\u001b[0m\u001b[0moutput_dir\u001b[0m\u001b[0;34m)\u001b[0m\u001b[0;34m:\u001b[0m\u001b[0;34m\u001b[0m\u001b[0;34m\u001b[0m\u001b[0m\n\u001b[1;32m     14\u001b[0m         \u001b[0;32mraise\u001b[0m \u001b[0mOSError\u001b[0m\u001b[0;34m(\u001b[0m\u001b[0mdir_not_found_message\u001b[0m\u001b[0;34m.\u001b[0m\u001b[0mformat\u001b[0m\u001b[0;34m(\u001b[0m\u001b[0;34m'ouptut'\u001b[0m\u001b[0;34m,\u001b[0m \u001b[0moutput_dir\u001b[0m\u001b[0;34m,\u001b[0m \u001b[0mos\u001b[0m\u001b[0;34m.\u001b[0m\u001b[0mgetcwd\u001b[0m\u001b[0;34m(\u001b[0m\u001b[0;34m)\u001b[0m\u001b[0;34m)\u001b[0m\u001b[0;34m)\u001b[0m\u001b[0;34m\u001b[0m\u001b[0;34m\u001b[0m\u001b[0m\n",
      "\u001b[0;31mOSError\u001b[0m: The input folder \"input_files\" could not be found. The current directory is /Users/dhewitt/GitHub/TouchStudy/BehaviouralData"
     ]
    }
   ],
   "source": [
    "from glob import glob\n",
    "import os\n",
    "import pandas as pd\n",
    "import sys\n",
    "\n",
    "def concat_csv_files(input_dir, output_dir, output_file='all_data.csv', \n",
    "                     input_separator=',', output_separator=','):\n",
    "\n",
    "    # Check input and output folders exist\n",
    "    dir_not_found_message = 'The {} folder \"{}\" could not be found. The current directory is {}'\n",
    "    if not os.path.exists(input_dir):\n",
    "        raise OSError(dir_not_found_message.format('input', input_dir, os.getcwd()))\n",
    "    if not os.path.exists(output_dir):\n",
    "        raise OSError(dir_not_found_message.format('ouptut', output_dir, os.getcwd()))\n",
    "\n",
    "    # Ask if we want to erase an existing output file\n",
    "    output_path = os.path.join(output_dir, output_file)\n",
    "    if os.path.exists(output_path):\n",
    "        try:\n",
    "            # I'm trying to make this script python2 vs python3 agnostic\n",
    "            global input\n",
    "            input = raw_input\n",
    "        except NameError:\n",
    "            pass\n",
    "\n",
    "        overwrite = input('The output_file already exists. Overwrite? [y/n]')\n",
    "        if overwrite != 'y':\n",
    "            sys.exit(0)\n",
    "\n",
    "    # Make empty dataframe and loop through all files with csv extension\n",
    "    all_data = pd.DataFrame()\n",
    "    for f in glob(os.path.join(input_dir, \"*.csv\")):\n",
    "        df = pd.read_csv(f, sep=input_separator)\n",
    "        all_data = all_data.append(df, ignore_index=True)\n",
    "        all_data.to_csv(output_path, output_separator)\n",
    "    print('Files combined to: \"{}\"'.format(output_path))\n",
    "\n",
    "if __name__ == '__main__':\n",
    "\n",
    "    # This uses a relative path: The script will look for a folder\n",
    "    # named 'input_files' in the same folder as this python file.\n",
    "    input_dir = os.path.join('input_files')\n",
    "    output_dir = os.path.join('output_files')\n",
    "    output_file = 'allBehaviouralData.csv'\n",
    "\n",
    "    concat_csv_files(input_dir, output_dir, output_file)\n"
   ]
  },
  {
   "cell_type": "code",
   "execution_count": null,
   "id": "e6bdb40f",
   "metadata": {},
   "outputs": [],
   "source": []
  },
  {
   "cell_type": "code",
   "execution_count": null,
   "id": "86461968",
   "metadata": {},
   "outputs": [],
   "source": []
  }
 ],
 "metadata": {
  "kernelspec": {
   "display_name": "Python 3 (ipykernel)",
   "language": "python",
   "name": "python3"
  },
  "language_info": {
   "codemirror_mode": {
    "name": "ipython",
    "version": 3
   },
   "file_extension": ".py",
   "mimetype": "text/x-python",
   "name": "python",
   "nbconvert_exporter": "python",
   "pygments_lexer": "ipython3",
   "version": "3.9.13"
  }
 },
 "nbformat": 4,
 "nbformat_minor": 5
}
