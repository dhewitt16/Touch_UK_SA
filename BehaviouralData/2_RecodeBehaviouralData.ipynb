{
 "cells": [
  {
   "cell_type": "markdown",
   "id": "7f9eca6f",
   "metadata": {},
   "source": [
    "A script to prepare behavioural ratings for analysis. \n",
    "\n",
    "This will create 2 new columns to recode the touch location and speed for the current block, and recode string variables to integers.\n",
    "\n",
    "**Change the data directory at the start and the output directory at the end to match those on your PC**\n",
    "\n",
    "By Danielle Hewitt, Jan 2023"
   ]
  },
  {
   "cell_type": "code",
   "execution_count": 1,
   "id": "2711d94e",
   "metadata": {
    "scrolled": true
   },
   "outputs": [],
   "source": [
    "import pandas as pd\n",
    "\n",
    "data = pd.read_csv(r'/Users/dhewitt/Analysis/output_files/allBehaviouralData.csv')\n",
    "df = pd.DataFrame(data, columns=['Participant ID', 'BLOCK', 'Block Speed Order', 'Second Block Order', 'Block Number', 'LIKE', 'WANT', 'INTENSE', 'COMFORTABLE', 'PLEASANT', 'SCALE ORDER', 'Country', 'Study Number', 'Experimenter'])\n",
    "df.columns = df.columns.str.replace(' ', '_') #to replace the spaces in names with underscore\n",
    "\n",
    "#Check if you want by uncommenting\n",
    "#print(df.head())"
   ]
  },
  {
   "cell_type": "code",
   "execution_count": 2,
   "id": "a8e4ca70",
   "metadata": {},
   "outputs": [
    {
     "name": "stdout",
     "output_type": "stream",
     "text": [
      "Experimental conditions have been recoded for analysis: {'practice': 1, 'Main Experiment': 2}\n"
     ]
    }
   ],
   "source": [
    "recode_dict = {'practice' : 1, 'Main Experiment' : 2}\n",
    "    \n",
    "# Recode the values in column 'Loc_Cond'\n",
    "for i in range(df.shape[0]):\n",
    "    if df.loc[i, 'BLOCK'] in recode_dict:\n",
    "        df.loc[i, 'BLOCK'] = recode_dict[df.loc[i, 'BLOCK']]\n",
    "\n",
    "print(f'Experimental conditions have been recoded for analysis: {recode_dict}')\n",
    "recode_dict.clear()\n",
    "#Check if you want by uncommenting\n",
    "#print(df.head())"
   ]
  },
  {
   "cell_type": "code",
   "execution_count": 3,
   "id": "0dcb0137",
   "metadata": {},
   "outputs": [],
   "source": [
    "# Create a new column for current block in the dataframe\n",
    "df['Speed_Cond'] = ''\n",
    "\n",
    "# Iterate over rows of the DataFrame\n",
    "for i, j in df.iterrows():\n",
    "    # Extract the value from the 'Block_Speed_Order' column\n",
    "    test = str(j.Block_Speed_Order)\n",
    "    blockIndex = j.Block_Number-1\n",
    "    extractedValue = test[blockIndex]\n",
    "    \n",
    "    # Assign the extracted value to the 'Value' column\n",
    "    df.at[i, 'Speed_Cond'] = extractedValue"
   ]
  },
  {
   "cell_type": "code",
   "execution_count": 4,
   "id": "2fd11871",
   "metadata": {},
   "outputs": [
    {
     "name": "stdout",
     "output_type": "stream",
     "text": [
      "Values in Loc_Cond have been recoded for analysis: {'P': 1, 'A': 2, 'O': 3, 'S': 4}\n"
     ]
    }
   ],
   "source": [
    "# Create a new column for current block in the dataframe\n",
    "df['Loc_Cond'] = ''\n",
    "\n",
    "# Iterate over rows of the DataFrame\n",
    "for i, j in df.iterrows():\n",
    "    # Extract the value from the 'Block_Speed_Order' column\n",
    "    test = str(j.Second_Block_Order)\n",
    "    blockIndex = j.Block_Number-1\n",
    "    extractedValue = test[blockIndex]\n",
    "\n",
    "    \n",
    "    # Assign the extracted value to the 'Value' column\n",
    "    df.at[i, 'Loc_Cond'] = extractedValue\n",
    "    \n",
    "# Recode the values in column 'Loc_Cond'\n",
    "recode_dict = {'P' : 1, 'A' : 2, 'O': 3, 'S' : 4}\n",
    "for i in range(df.shape[0]):\n",
    "    if df.loc[i, 'Loc_Cond'] in recode_dict:\n",
    "        df.loc[i, 'Loc_Cond'] = recode_dict[df.loc[i, 'Loc_Cond']]\n",
    "\n",
    "print(f'Values in Loc_Cond have been recoded for analysis: {recode_dict}')"
   ]
  },
  {
   "cell_type": "code",
   "execution_count": 5,
   "id": "5b4d898b",
   "metadata": {},
   "outputs": [],
   "source": [
    "df.to_csv('/Users/dhewitt/Analysis/output_files/allBehaviouralData_recoded.csv', index=False)\n"
   ]
  }
 ],
 "metadata": {
  "kernelspec": {
   "display_name": "Python 3 (ipykernel)",
   "language": "python",
   "name": "python3"
  },
  "language_info": {
   "codemirror_mode": {
    "name": "ipython",
    "version": 3
   },
   "file_extension": ".py",
   "mimetype": "text/x-python",
   "name": "python",
   "nbconvert_exporter": "python",
   "pygments_lexer": "ipython3",
   "version": "3.9.13"
  }
 },
 "nbformat": 4,
 "nbformat_minor": 5
}
